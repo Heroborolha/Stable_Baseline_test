{
 "cells": [
  {
   "cell_type": "code",
   "execution_count": null,
   "metadata": {},
   "outputs": [
    {
     "ename": "SyntaxError",
     "evalue": "invalid syntax (1496804238.py, line 3)",
     "output_type": "error",
     "traceback": [
      "\u001b[1;36m  Cell \u001b[1;32mIn[1], line 3\u001b[1;36m\u001b[0m\n\u001b[1;33m    from stable_baselines3\u001b[0m\n\u001b[1;37m                          ^\u001b[0m\n\u001b[1;31mSyntaxError\u001b[0m\u001b[1;31m:\u001b[0m invalid syntax\n"
     ]
    }
   ],
   "source": [
    "import os \n",
    "import gymnasium as gym\n",
    "from stable_baselines3 import SAC\n",
    "from stable_baselines3.common.callbacks import EvalCallback\n",
    "from stable_baselines3.common.env_util import make_vec_env\n",
    "\n",
    "env_id = \"Pendulum-v1\"\n",
    "n_training_envs = 1\n",
    "n_eval_envs = 5\n",
    "\n",
    "eval_log_dir = \"./eval_logs/\"\n",
    "os.makedirs(eval_log_dir, exist_ok=True)\n",
    "\n",
    "train_env = make_vec_env(env_id, n_envs=n_training_envs, seed=0)\n",
    "\n",
    "eval_env = make_vec_env(env_id, n_envs=n_eval_envs, seed=0, env_kwargs={'g':0.7})\n",
    "\n",
    "eval_callback = EvalCallback(eval_env, best_model_save_path=eval_log_dir, log_path=eval_log_dir,\n",
    "                              eval_freq=max(500 // n_training_envs, 1), n_eval_episodes=5, deterministic=True, render=False)\n",
    "\n",
    "model = SAC(\"MlpPolicy\", train_env)\n",
    "model.learn(5000, callback=eval_callback)\n"
   ]
  }
 ],
 "metadata": {
  "kernelspec": {
   "display_name": "base",
   "language": "python",
   "name": "python3"
  },
  "language_info": {
   "codemirror_mode": {
    "name": "ipython",
    "version": 3
   },
   "file_extension": ".py",
   "mimetype": "text/x-python",
   "name": "python",
   "nbconvert_exporter": "python",
   "pygments_lexer": "ipython3",
   "version": "3.9.21"
  }
 },
 "nbformat": 4,
 "nbformat_minor": 2
}
